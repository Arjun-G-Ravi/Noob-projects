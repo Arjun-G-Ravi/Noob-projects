{
 "cells": [
  {
   "cell_type": "code",
   "execution_count": 1,
   "metadata": {},
   "outputs": [],
   "source": [
    "import torch\n",
    "import torch.nn as nn\n",
    "import os\n",
    "import numpy as np\n",
    "import cv2\n",
    "from torch.utils.data import DataLoader\n",
    "from sklearn.model_selection import train_test_split\n",
    "import torch.nn.functional as F"
   ]
  },
  {
   "cell_type": "code",
   "execution_count": 2,
   "metadata": {},
   "outputs": [
    {
     "data": {
      "text/plain": [
       "device(type='cuda')"
      ]
     },
     "execution_count": 2,
     "metadata": {},
     "output_type": "execute_result"
    }
   ],
   "source": [
    "device = torch.device('cuda' if torch.cuda.is_available() else 'cpu')\n",
    "device"
   ]
  },
  {
   "cell_type": "markdown",
   "metadata": {},
   "source": [
    "# Dataset"
   ]
  },
  {
   "cell_type": "code",
   "execution_count": 3,
   "metadata": {},
   "outputs": [
    {
     "name": "stdout",
     "output_type": "stream",
     "text": [
      "{'butterfly': 0, 'cat': 1, 'cow': 2, 'dog': 3, 'elephant': 4, 'hen': 5, 'horse': 6, 'sheep': 7, 'spider': 8, 'squirrel': 9}\n"
     ]
    }
   ],
   "source": [
    "animals = {0: 'butterfly', 1: 'cat', 2: 'cow', 3: 'dog', 4: 'elephant', 5: 'hen', 6: 'horse', 7: 'sheep', 8: 'spider', 9: 'squirrel'}\n",
    "rev_animals = {j:i for i,j in animals.items()}\n",
    "print(rev_animals)"
   ]
  },
  {
   "cell_type": "code",
   "execution_count": 4,
   "metadata": {},
   "outputs": [],
   "source": [
    "imgx, imgy = 100, 100\n",
    "bs = 20000"
   ]
  },
  {
   "cell_type": "code",
   "execution_count": 5,
   "metadata": {},
   "outputs": [
    {
     "name": "stderr",
     "output_type": "stream",
     "text": [
      "libpng warning: iCCP: known incorrect sRGB profile\n",
      "libpng warning: iCCP: known incorrect sRGB profile\n",
      "libpng warning: iCCP: known incorrect sRGB profile\n",
      "libpng warning: iCCP: known incorrect sRGB profile\n",
      "libpng warning: iCCP: known incorrect sRGB profile\n",
      "libpng warning: iCCP: known incorrect sRGB profile\n",
      "libpng warning: iCCP: known incorrect sRGB profile\n",
      "libpng warning: iCCP: known incorrect sRGB profile\n",
      "libpng warning: iCCP: known incorrect sRGB profile\n",
      "libpng warning: iCCP: known incorrect sRGB profile\n",
      "libpng warning: iCCP: known incorrect sRGB profile\n"
     ]
    },
    {
     "data": {
      "text/plain": [
       "10000"
      ]
     },
     "execution_count": 5,
     "metadata": {},
     "output_type": "execute_result"
    }
   ],
   "source": [
    "path_to_main_dir = '/home/arjun/Desktop/Datasets/animals'\n",
    "X,y = [], []\n",
    "for sub in os.listdir(path_to_main_dir):\n",
    "    for img in os.listdir(os.path.join(path_to_main_dir,sub))[:1000]:\n",
    "        image = cv2.imread(os.path.join(os.path.join(path_to_main_dir,sub), img))\n",
    "        x = cv2.resize(image, (imgx, imgy))\n",
    "        X.append(x)\n",
    "        y.append(rev_animals[sub])\n",
    "len(X)"
   ]
  },
  {
   "cell_type": "code",
   "execution_count": 6,
   "metadata": {},
   "outputs": [
    {
     "name": "stderr",
     "output_type": "stream",
     "text": [
      "/tmp/ipykernel_7264/7877835.py:1: UserWarning: Creating a tensor from a list of numpy.ndarrays is extremely slow. Please consider converting the list to a single numpy.ndarray with numpy.array() before converting to a tensor. (Triggered internally at ../torch/csrc/utils/tensor_new.cpp:261.)\n",
      "  X = torch.tensor(X).to(device).float()\n"
     ]
    }
   ],
   "source": [
    "X = torch.tensor(X).to(device).float()\n",
    "y = np.array(y)\n",
    "y = F.one_hot(torch.tensor(y), num_classes=10).to(device).float() # Super slow :("
   ]
  },
  {
   "cell_type": "code",
   "execution_count": 7,
   "metadata": {},
   "outputs": [],
   "source": [
    "X_train, X_test, y_train, y_test = train_test_split(X,y, train_size=.8)"
   ]
  },
  {
   "cell_type": "markdown",
   "metadata": {},
   "source": [
    "### Converting to DataLoader"
   ]
  },
  {
   "cell_type": "code",
   "execution_count": 8,
   "metadata": {},
   "outputs": [],
   "source": [
    "class Dataset:\n",
    "    def __init__(self, X, y):\n",
    "        self.X = X\n",
    "        self.y = y\n",
    "        \n",
    "    def __len__(self):\n",
    "        return self.X.shape[0]\n",
    "    \n",
    "    def __getitem__(self, index):\n",
    "        return self.X[index], self.y[index]"
   ]
  },
  {
   "cell_type": "code",
   "execution_count": 9,
   "metadata": {},
   "outputs": [
    {
     "data": {
      "text/plain": [
       "(8000, 2000)"
      ]
     },
     "execution_count": 9,
     "metadata": {},
     "output_type": "execute_result"
    }
   ],
   "source": [
    "train = Dataset(X_train, y_train)\n",
    "test = Dataset(X_test, y_test)\n",
    "len(train), len(test)"
   ]
  },
  {
   "cell_type": "code",
   "execution_count": 10,
   "metadata": {},
   "outputs": [],
   "source": [
    "train_dataloader = DataLoader(train, bs, True)\n",
    "test_dataloader = DataLoader(test, bs, True)"
   ]
  },
  {
   "cell_type": "markdown",
   "metadata": {},
   "source": [
    "# Creating Model"
   ]
  },
  {
   "cell_type": "code",
   "execution_count": 29,
   "metadata": {},
   "outputs": [
    {
     "data": {
      "text/plain": [
       "OptimizedModule(\n",
       "  (_orig_mod): CNN(\n",
       "    (conv1): Conv2d(3, 6, kernel_size=(5, 5), stride=(1, 1))\n",
       "    (pool): MaxPool2d(kernel_size=2, stride=2, padding=0, dilation=1, ceil_mode=False)\n",
       "    (conv2): Conv2d(6, 16, kernel_size=(5, 5), stride=(1, 1))\n",
       "    (fc1): Linear(in_features=7744, out_features=800, bias=True)\n",
       "    (fc2): Linear(in_features=800, out_features=100, bias=True)\n",
       "    (fc3): Linear(in_features=100, out_features=10, bias=True)\n",
       "  )\n",
       ")"
      ]
     },
     "execution_count": 29,
     "metadata": {},
     "output_type": "execute_result"
    }
   ],
   "source": [
    "class CNN(nn.Module):\n",
    "\n",
    "    def __init__(self):\n",
    "        super(CNN, self).__init__()\n",
    "        self.conv1 = nn.Conv2d(3, 6, 5)\n",
    "        self.pool = nn.MaxPool2d(2, 2)\n",
    "        self.conv2 = nn.Conv2d(6, 16, 5)\n",
    "        self.fc1 = nn.Linear(16 * 22* 22, 800)\n",
    "        self.fc2 = nn.Linear(800, 100)\n",
    "        self.fc3 = nn.Linear(100, 10)\n",
    "\n",
    "\n",
    "    def forward(self, x):\n",
    "        # [800, 3, 100, 100])\n",
    "        x = self.pool(F.relu(self.conv1(x)))  # [800, 6, 48, 48])\n",
    "        x = self.pool(F.relu(self.conv2(x)))  # [800, 16, 22, 22])\n",
    "        x = x.view(-1, 16*22*22)        \n",
    "        x = F.relu(self.fc1(x))               \n",
    "        x = F.relu(self.fc2(x))               \n",
    "        x = self.fc3(x)                       \n",
    "        return x \n",
    "\n",
    "\n",
    "model = CNN().to(device)\n",
    "model = torch.compile(model)\n",
    "\n",
    "model"
   ]
  },
  {
   "cell_type": "code",
   "execution_count": 30,
   "metadata": {},
   "outputs": [],
   "source": [
    "lossCat = nn.CrossEntropyLoss().to(device)\n",
    "optimiser = torch.optim.AdamW(model.parameters(), lr=1e-5)"
   ]
  },
  {
   "cell_type": "markdown",
   "metadata": {},
   "source": [
    "# Training"
   ]
  },
  {
   "cell_type": "code",
   "execution_count": 31,
   "metadata": {},
   "outputs": [
    {
     "name": "stdout",
     "output_type": "stream",
     "text": [
      "Epoch: 0 : 3.5323781967163086\n",
      "Epoch: 10 : 2.376026153564453\n",
      "Epoch: 20 : 2.2872822284698486\n",
      "Epoch: 30 : 2.247490406036377\n",
      "Epoch: 40 : 2.221935749053955\n",
      "Epoch: 50 : 2.1968088150024414\n",
      "Epoch: 60 : 2.170743942260742\n",
      "Epoch: 70 : 2.143101215362549\n",
      "Epoch: 80 : 2.113313674926758\n",
      "Epoch: 90 : 2.0816335678100586\n",
      "Epoch: 100 : 2.0478100776672363\n",
      "Epoch: 110 : 2.0123374462127686\n",
      "Epoch: 120 : 1.9753646850585938\n",
      "Epoch: 130 : 1.9369629621505737\n",
      "Epoch: 140 : 1.8971893787384033\n",
      "Epoch: 150 : 1.856330156326294\n",
      "Epoch: 160 : 1.8142566680908203\n",
      "Epoch: 170 : 1.7708736658096313\n",
      "Epoch: 180 : 1.7264783382415771\n",
      "Epoch: 190 : 1.6812928915023804\n",
      "Epoch: 200 : 1.635522723197937\n",
      "Epoch: 210 : 1.5890061855316162\n",
      "Epoch: 220 : 1.5425472259521484\n",
      "Epoch: 230 : 1.4967881441116333\n",
      "Epoch: 240 : 1.4505051374435425\n",
      "Epoch: 250 : 1.404657006263733\n",
      "Epoch: 260 : 1.3616228103637695\n",
      "Epoch: 270 : 1.316123604774475\n",
      "Epoch: 280 : 1.2723835706710815\n",
      "Epoch: 290 : 1.2294018268585205\n"
     ]
    }
   ],
   "source": [
    "\n",
    "for epoch in range(300):\n",
    "    for step, (x,y) in enumerate(train_dataloader):\n",
    "        # forward pass\n",
    "        x = x.reshape(-1, 3, imgx, imgy)\n",
    "        y_pred = model(x)\n",
    "        \n",
    "        # Loss calculation\n",
    "        loss = lossCat(y_pred, y)\n",
    "        \n",
    "        # Backpropogation\n",
    "        loss.backward()\n",
    "        optimiser.step()\n",
    "        optimiser.zero_grad()\n",
    "    \n",
    "    if epoch%10 == 0:    \n",
    "        print('Epoch:', epoch, ':', loss.item())\n",
    "    if loss.item() < 1: break # to prevent overfitting"
   ]
  },
  {
   "cell_type": "markdown",
   "metadata": {},
   "source": [
    "# Model Evaluation"
   ]
  },
  {
   "cell_type": "markdown",
   "metadata": {},
   "source": [
    "### Train Data"
   ]
  },
  {
   "cell_type": "code",
   "execution_count": 32,
   "metadata": {},
   "outputs": [
    {
     "name": "stdout",
     "output_type": "stream",
     "text": [
      "Accuracy: 69.73750305175781 %\n"
     ]
    }
   ],
   "source": [
    "with torch.no_grad():\n",
    "    tot, correct = 0, 0\n",
    "    for x,y in train_dataloader:\n",
    "        x = x.reshape(-1,3, imgx, imgy)\n",
    "        y_pred = model(x)\n",
    "        correct += sum(torch.argmax(y_pred,dim=1) == torch.argmax(y,dim=1))\n",
    "        tot += len(y)\n",
    "\n",
    "    print(\"Accuracy:\", (correct/tot*100).item(),'%')\n",
    "    tot\n",
    "        "
   ]
  },
  {
   "cell_type": "markdown",
   "metadata": {},
   "source": [
    "### Test Data"
   ]
  },
  {
   "cell_type": "code",
   "execution_count": 33,
   "metadata": {},
   "outputs": [
    {
     "name": "stdout",
     "output_type": "stream",
     "text": [
      "Accuracy: 26.600000381469727 %\n"
     ]
    }
   ],
   "source": [
    "with torch.no_grad():\n",
    "    tot, correct = 0, 0\n",
    "    for x,y in test_dataloader:\n",
    "        x = x.reshape(-1,3, imgx, imgy)\n",
    "        y_pred = model(x)\n",
    "        correct += sum(torch.argmax(y_pred,dim=1) == torch.argmax(y,dim=1))\n",
    "        tot += len(y)\n",
    "\n",
    "    print(\"Accuracy:\", (correct/tot*100).item(),'%')\n",
    "    tot"
   ]
  }
 ],
 "metadata": {
  "kernelspec": {
   "display_name": "AI_ENV",
   "language": "python",
   "name": "python3"
  },
  "language_info": {
   "codemirror_mode": {
    "name": "ipython",
    "version": 3
   },
   "file_extension": ".py",
   "mimetype": "text/x-python",
   "name": "python",
   "nbconvert_exporter": "python",
   "pygments_lexer": "ipython3",
   "version": "3.10.12"
  }
 },
 "nbformat": 4,
 "nbformat_minor": 2
}
