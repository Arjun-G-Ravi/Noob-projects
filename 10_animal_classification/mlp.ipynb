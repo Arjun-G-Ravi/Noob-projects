{
 "cells": [
  {
   "cell_type": "code",
   "execution_count": 1,
   "metadata": {},
   "outputs": [
    {
     "name": "stderr",
     "output_type": "stream",
     "text": [
      "/home/arjun/AI_ENV/lib/python3.10/site-packages/tqdm/auto.py:21: TqdmWarning: IProgress not found. Please update jupyter and ipywidgets. See https://ipywidgets.readthedocs.io/en/stable/user_install.html\n",
      "  from .autonotebook import tqdm as notebook_tqdm\n"
     ]
    }
   ],
   "source": [
    "import torch\n",
    "import torch.nn as nn\n",
    "import torchvision\n",
    "import torchvision.transforms as transforms\n",
    "import matplotlib.pyplot as plt\n",
    "import os\n",
    "import numpy as np\n",
    "import cv2\n",
    "from torch.utils.data import DataLoader\n",
    "from sklearn.model_selection import train_test_split\n",
    "import torch.nn.functional as F"
   ]
  },
  {
   "cell_type": "code",
   "execution_count": 2,
   "metadata": {},
   "outputs": [
    {
     "data": {
      "text/plain": [
       "device(type='cuda')"
      ]
     },
     "execution_count": 2,
     "metadata": {},
     "output_type": "execute_result"
    }
   ],
   "source": [
    "device = torch.device('cuda' if torch.cuda.is_available() else 'cpu')\n",
    "device"
   ]
  },
  {
   "cell_type": "markdown",
   "metadata": {},
   "source": [
    "# Dataset"
   ]
  },
  {
   "cell_type": "code",
   "execution_count": 3,
   "metadata": {},
   "outputs": [
    {
     "name": "stdout",
     "output_type": "stream",
     "text": [
      "{'butterfly': 0, 'cat': 1, 'cow': 2, 'dog': 3, 'elephant': 4, 'hen': 5, 'horse': 6, 'sheep': 7, 'spider': 8, 'squirrel': 9}\n"
     ]
    }
   ],
   "source": [
    "animals = {0: 'butterfly', 1: 'cat', 2: 'cow', 3: 'dog', 4: 'elephant', 5: 'hen', 6: 'horse', 7: 'sheep', 8: 'spider', 9: 'squirrel'}\n",
    "rev_animals = {j:i for i,j in animals.items()}\n",
    "print(rev_animals)"
   ]
  },
  {
   "cell_type": "code",
   "execution_count": 4,
   "metadata": {},
   "outputs": [
    {
     "name": "stderr",
     "output_type": "stream",
     "text": [
      "libpng warning: iCCP: known incorrect sRGB profile\n",
      "libpng warning: iCCP: known incorrect sRGB profile\n",
      "libpng warning: iCCP: known incorrect sRGB profile\n",
      "libpng warning: iCCP: known incorrect sRGB profile\n",
      "libpng warning: iCCP: known incorrect sRGB profile\n",
      "libpng warning: iCCP: known incorrect sRGB profile\n",
      "libpng warning: iCCP: known incorrect sRGB profile\n",
      "libpng warning: iCCP: known incorrect sRGB profile\n",
      "libpng warning: iCCP: known incorrect sRGB profile\n",
      "libpng warning: iCCP: known incorrect sRGB profile\n",
      "libpng warning: iCCP: known incorrect sRGB profile\n"
     ]
    }
   ],
   "source": [
    "path_to_main_dir = '/home/arjun/Desktop/Datasets/animals'\n",
    "X,y = [], []\n",
    "for sub in os.listdir(path_to_main_dir):\n",
    "    for img in os.listdir(os.path.join(path_to_main_dir,sub))[:1000]:\n",
    "        image = cv2.imread(os.path.join(os.path.join(path_to_main_dir,sub), img))\n",
    "        x = cv2.resize(image, (100,100))\n",
    "        X.append(x)\n",
    "        y.append(rev_animals[sub])"
   ]
  },
  {
   "cell_type": "code",
   "execution_count": 5,
   "metadata": {},
   "outputs": [
    {
     "data": {
      "text/plain": [
       "10000"
      ]
     },
     "execution_count": 5,
     "metadata": {},
     "output_type": "execute_result"
    }
   ],
   "source": [
    "len(X)"
   ]
  },
  {
   "cell_type": "code",
   "execution_count": 6,
   "metadata": {},
   "outputs": [
    {
     "name": "stderr",
     "output_type": "stream",
     "text": [
      "/tmp/ipykernel_71646/2460507321.py:1: UserWarning: Creating a tensor from a list of numpy.ndarrays is extremely slow. Please consider converting the list to a single numpy.ndarray with numpy.array() before converting to a tensor. (Triggered internally at ../torch/csrc/utils/tensor_new.cpp:261.)\n",
      "  X = torch.tensor(X).to(device).float()\n"
     ]
    }
   ],
   "source": [
    "X = torch.tensor(X).to(device).float()\n",
    "y = np.array(y)\n",
    "y = F.one_hot(torch.tensor(y), num_classes=10).to(device).float()"
   ]
  },
  {
   "cell_type": "code",
   "execution_count": 7,
   "metadata": {},
   "outputs": [],
   "source": [
    "X_train, X_test, y_train, y_test = train_test_split(X,y, train_size=.8)"
   ]
  },
  {
   "cell_type": "markdown",
   "metadata": {},
   "source": [
    "### Converting to DataLoader"
   ]
  },
  {
   "cell_type": "code",
   "execution_count": 8,
   "metadata": {},
   "outputs": [],
   "source": [
    "class Dataset:\n",
    "    def __init__(self, X, y):\n",
    "        self.X = X\n",
    "        self.y = y\n",
    "        \n",
    "    def __len__(self):\n",
    "        return self.X.shape[0]\n",
    "    \n",
    "    def __getitem__(self, index):\n",
    "        return self.X[index], self.y[index]"
   ]
  },
  {
   "cell_type": "code",
   "execution_count": 9,
   "metadata": {},
   "outputs": [
    {
     "data": {
      "text/plain": [
       "(8000, 2000)"
      ]
     },
     "execution_count": 9,
     "metadata": {},
     "output_type": "execute_result"
    }
   ],
   "source": [
    "train = Dataset(X_train, y_train)\n",
    "test = Dataset(X_test, y_test)\n",
    "len(train), len(test)"
   ]
  },
  {
   "cell_type": "code",
   "execution_count": 10,
   "metadata": {},
   "outputs": [],
   "source": [
    "train_dataloader = DataLoader(train, 1000, True)\n",
    "test_dataloader = DataLoader(test, 1000, True)"
   ]
  },
  {
   "cell_type": "markdown",
   "metadata": {},
   "source": [
    "# Creating Model"
   ]
  },
  {
   "cell_type": "code",
   "execution_count": 11,
   "metadata": {},
   "outputs": [
    {
     "data": {
      "text/plain": [
       "MLP(\n",
       "  (lay1): Linear(in_features=30000, out_features=500, bias=True)\n",
       "  (lay2): ReLU()\n",
       "  (lay3): Linear(in_features=500, out_features=100, bias=True)\n",
       "  (lay4): ReLU()\n",
       "  (lay5): Linear(in_features=100, out_features=100, bias=True)\n",
       "  (lay6): ReLU()\n",
       "  (lay7): Linear(in_features=100, out_features=10, bias=True)\n",
       ")"
      ]
     },
     "execution_count": 11,
     "metadata": {},
     "output_type": "execute_result"
    }
   ],
   "source": [
    "class MLP(nn.Module):\n",
    "    def __init__(self, inp_size, hid1, hid2, hid3, out_size):\n",
    "        super(MLP, self).__init__()\n",
    "        \n",
    "        self.lay1 = nn.Linear(inp_size, hid1)\n",
    "        self.lay2 = nn.ReLU()\n",
    "        self.lay3 = nn.Linear(hid1, hid2)\n",
    "        self.lay4 = nn.ReLU()\n",
    "        self.lay5 = nn.Linear(hid2, hid3)\n",
    "        self.lay6 = nn.ReLU()\n",
    "        self.lay7 = nn.Linear(hid3, out_size)\n",
    "\n",
    "    def forward(self, X):\n",
    "        out = self.lay1(X)\n",
    "        out = self.lay2(out)\n",
    "        out = self.lay3(out)\n",
    "        out = self.lay4(out)\n",
    "        out = self.lay5(out)\n",
    "        out = self.lay6(out)\n",
    "        out = self.lay7(out)\n",
    "        return out\n",
    "\n",
    "model = MLP(100*100*3, 500, 100, 100, 10).to(device)\n",
    "model"
   ]
  },
  {
   "cell_type": "code",
   "execution_count": 12,
   "metadata": {},
   "outputs": [],
   "source": [
    "lossCat = nn.CrossEntropyLoss()\n",
    "optimiser = torch.optim.Adam(model.parameters(), lr=1e-5)"
   ]
  },
  {
   "cell_type": "markdown",
   "metadata": {},
   "source": [
    "# Training"
   ]
  },
  {
   "cell_type": "code",
   "execution_count": 13,
   "metadata": {},
   "outputs": [
    {
     "name": "stdout",
     "output_type": "stream",
     "text": [
      "Epoch: 0 : 4.086862087249756\n",
      "Epoch: 10 : 2.122422933578491\n",
      "Epoch: 20 : 1.9554004669189453\n",
      "Epoch: 30 : 1.7912237644195557\n",
      "Epoch: 40 : 1.6890054941177368\n",
      "Epoch: 50 : 1.5459880828857422\n",
      "Epoch: 60 : 1.4371079206466675\n",
      "Epoch: 70 : 1.3451910018920898\n",
      "Epoch: 80 : 1.2515283823013306\n",
      "Epoch: 90 : 1.1741136312484741\n",
      "Epoch: 100 : 1.042250394821167\n",
      "Epoch: 110 : 0.919402003288269\n",
      "Epoch: 120 : 0.841399073600769\n",
      "Epoch: 130 : 0.7646727561950684\n",
      "Epoch: 140 : 0.7396352291107178\n",
      "Epoch: 150 : 0.6022002100944519\n",
      "Epoch: 160 : 0.5676324963569641\n",
      "Epoch: 170 : 0.5065752863883972\n",
      "Epoch: 180 : 0.4671515226364136\n",
      "Epoch: 190 : 0.437844455242157\n"
     ]
    }
   ],
   "source": [
    "\n",
    "for epoch in range(200):\n",
    "    for step, (x,y) in enumerate(train_dataloader):\n",
    "        # forward pass\n",
    "        x = x.reshape(-1, 100*100*3)\n",
    "        y_pred = model(x)\n",
    "        \n",
    "        # Loss calculation\n",
    "        loss = lossCat(y_pred, y)\n",
    "        \n",
    "        # Backpropogation\n",
    "        loss.backward()\n",
    "        optimiser.step()\n",
    "        optimiser.zero_grad()\n",
    "    \n",
    "    if epoch%10 == 0:    \n",
    "        print('Epoch:', epoch, ':', loss.item())"
   ]
  },
  {
   "cell_type": "markdown",
   "metadata": {},
   "source": [
    "# Model Evaluation"
   ]
  },
  {
   "cell_type": "markdown",
   "metadata": {},
   "source": [
    "### Train Data"
   ]
  },
  {
   "cell_type": "code",
   "execution_count": 14,
   "metadata": {},
   "outputs": [
    {
     "name": "stdout",
     "output_type": "stream",
     "text": [
      "Accuracy: 95.75000762939453 %\n"
     ]
    },
    {
     "data": {
      "text/plain": [
       "8000"
      ]
     },
     "execution_count": 14,
     "metadata": {},
     "output_type": "execute_result"
    }
   ],
   "source": [
    "tot, correct = 0, 0\n",
    "for x,y in train_dataloader:\n",
    "    x = x.reshape(-1, 100*100*3)\n",
    "    y_pred = model(x)\n",
    "    # print(torch.argmax(y_pred,dim=1))\n",
    "    # print(torch.argmax(y,dim=1))\n",
    "    correct += sum(torch.argmax(y_pred,dim=1) == torch.argmax(y,dim=1))\n",
    "    tot += len(y)\n",
    "\n",
    "print(\"Accuracy:\", (correct/tot*100).item(),'%')\n",
    "tot\n",
    "    "
   ]
  },
  {
   "cell_type": "markdown",
   "metadata": {},
   "source": [
    "### Test Data"
   ]
  },
  {
   "cell_type": "code",
   "execution_count": 15,
   "metadata": {},
   "outputs": [
    {
     "name": "stdout",
     "output_type": "stream",
     "text": [
      "Accuracy: 33.29999923706055 %\n"
     ]
    },
    {
     "data": {
      "text/plain": [
       "2000"
      ]
     },
     "execution_count": 15,
     "metadata": {},
     "output_type": "execute_result"
    }
   ],
   "source": [
    "tot, correct = 0, 0\n",
    "for x,y in test_dataloader:\n",
    "    x = x.reshape(-1, 100*100*3)\n",
    "    y_pred = model(x)\n",
    "    # print(torch.argmax(y_pred,dim=1))\n",
    "    # print(torch.argmax(y,dim=1))\n",
    "    correct += sum(torch.argmax(y_pred,dim=1) == torch.argmax(y,dim=1))\n",
    "    tot += len(y)\n",
    "\n",
    "print(\"Accuracy:\", (correct/tot*100).item(),'%')\n",
    "tot"
   ]
  },
  {
   "cell_type": "markdown",
   "metadata": {},
   "source": [
    "Best Accuracy: 39% :("
   ]
  }
 ],
 "metadata": {
  "kernelspec": {
   "display_name": "AI_ENV",
   "language": "python",
   "name": "python3"
  },
  "language_info": {
   "codemirror_mode": {
    "name": "ipython",
    "version": 3
   },
   "file_extension": ".py",
   "mimetype": "text/x-python",
   "name": "python",
   "nbconvert_exporter": "python",
   "pygments_lexer": "ipython3",
   "version": "3.10.12"
  }
 },
 "nbformat": 4,
 "nbformat_minor": 2
}
