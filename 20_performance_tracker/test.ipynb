{
 "cells": [
  {
   "cell_type": "code",
   "execution_count": 1,
   "metadata": {},
   "outputs": [],
   "source": [
    "import pandas as pd\n",
    "import numpy as np\n",
    "import matplotlib.pyplot as plt\n",
    "import os\n",
    "from datetime import date"
   ]
  },
  {
   "cell_type": "code",
   "execution_count": 2,
   "metadata": {},
   "outputs": [],
   "source": [
    "db_location = '/home/arjun/Desktop/Datasets/plan.csv'"
   ]
  },
  {
   "cell_type": "code",
   "execution_count": 3,
   "metadata": {},
   "outputs": [
    {
     "name": "stdout",
     "output_type": "stream",
     "text": [
      "Read from existing database\n"
     ]
    }
   ],
   "source": [
    "if os.path.exists(db_location):\n",
    "    db = pd.read_csv(db_location)\n",
    "    print('Read from existing database')\n",
    "else:\n",
    "    data = {\n",
    "    'Date': [], 'AI Theory': [], 'AI Project': [],\n",
    "    'Programming': [], # Leetcode + Non AI project\n",
    "    'Non-AI': [], # Non AI, Non programming\n",
    "    'Workout': [],  'Total': []}\n",
    "\n",
    "    db = pd.DataFrame(data)\n",
    "    db.to_csv(db_location, index=False)\n",
    "    print('Created empty database')"
   ]
  },
  {
   "cell_type": "code",
   "execution_count": 4,
   "metadata": {},
   "outputs": [],
   "source": [
    "def add_row(db, new_data):\n",
    "    new_row = pd.DataFrame(new_data, index=[0])\n",
    "    updated_db = pd.concat([db, new_row], ignore_index=True)\n",
    "    return updated_db"
   ]
  },
  {
   "cell_type": "code",
   "execution_count": 5,
   "metadata": {},
   "outputs": [],
   "source": [
    "# add_row(db,[1,2,3,4,5])\n",
    "new_data = {'Date': [1], 'AI Theory': [2], 'AI Project': [3], 'Programming': [4],'Non-AI': [5], 'Total': [6], 'Workout': [7]}"
   ]
  },
  {
   "cell_type": "code",
   "execution_count": 6,
   "metadata": {},
   "outputs": [],
   "source": [
    "ct = 0\n",
    "for k in new_data.keys():\n",
    "    if k == 'Date':\n",
    "        new_data[k] = f'{date.today().day}-{date.today().month}-{date.today().year}'\n",
    "    elif k == 'Total':\n",
    "        new_data[k] = ct\n",
    "    else:\n",
    "        val = float(input(f'Time spend in {k}:'))\n",
    "        new_data[k] = val\n",
    "        ct += val\n",
    "\n",
    "db = add_row(db, new_data)"
   ]
  },
  {
   "cell_type": "code",
   "execution_count": 7,
   "metadata": {},
   "outputs": [
    {
     "data": {
      "text/html": [
       "<div>\n",
       "<style scoped>\n",
       "    .dataframe tbody tr th:only-of-type {\n",
       "        vertical-align: middle;\n",
       "    }\n",
       "\n",
       "    .dataframe tbody tr th {\n",
       "        vertical-align: top;\n",
       "    }\n",
       "\n",
       "    .dataframe thead th {\n",
       "        text-align: right;\n",
       "    }\n",
       "</style>\n",
       "<table border=\"1\" class=\"dataframe\">\n",
       "  <thead>\n",
       "    <tr style=\"text-align: right;\">\n",
       "      <th></th>\n",
       "      <th>Date</th>\n",
       "      <th>AI Theory</th>\n",
       "      <th>AI Project</th>\n",
       "      <th>Programming</th>\n",
       "      <th>Non-AI</th>\n",
       "      <th>Workout</th>\n",
       "      <th>Total</th>\n",
       "    </tr>\n",
       "  </thead>\n",
       "  <tbody>\n",
       "    <tr>\n",
       "      <th>0</th>\n",
       "      <td>25-5-2024</td>\n",
       "      <td>1.0</td>\n",
       "      <td>2.0</td>\n",
       "      <td>3.0</td>\n",
       "      <td>4.0</td>\n",
       "      <td>1.0</td>\n",
       "      <td>10.0</td>\n",
       "    </tr>\n",
       "    <tr>\n",
       "      <th>1</th>\n",
       "      <td>25-5-2024</td>\n",
       "      <td>3.0</td>\n",
       "      <td>1.0</td>\n",
       "      <td>7.0</td>\n",
       "      <td>0.0</td>\n",
       "      <td>1.0</td>\n",
       "      <td>11.0</td>\n",
       "    </tr>\n",
       "    <tr>\n",
       "      <th>2</th>\n",
       "      <td>26-5-2024</td>\n",
       "      <td>1.0</td>\n",
       "      <td>2.0</td>\n",
       "      <td>3.0</td>\n",
       "      <td>4.0</td>\n",
       "      <td>5.0</td>\n",
       "      <td>10.0</td>\n",
       "    </tr>\n",
       "    <tr>\n",
       "      <th>3</th>\n",
       "      <td>26-5-2024</td>\n",
       "      <td>2.0</td>\n",
       "      <td>6.0</td>\n",
       "      <td>10.0</td>\n",
       "      <td>1.0</td>\n",
       "      <td>0.0</td>\n",
       "      <td>19.0</td>\n",
       "    </tr>\n",
       "    <tr>\n",
       "      <th>4</th>\n",
       "      <td>26-5-2024</td>\n",
       "      <td>100.0</td>\n",
       "      <td>2.0</td>\n",
       "      <td>4.0</td>\n",
       "      <td>5.0</td>\n",
       "      <td>3.0</td>\n",
       "      <td>111.0</td>\n",
       "    </tr>\n",
       "    <tr>\n",
       "      <th>5</th>\n",
       "      <td>26-5-2024</td>\n",
       "      <td>2.0</td>\n",
       "      <td>3.0</td>\n",
       "      <td>4.0</td>\n",
       "      <td>5.0</td>\n",
       "      <td>6.0</td>\n",
       "      <td>14.0</td>\n",
       "    </tr>\n",
       "  </tbody>\n",
       "</table>\n",
       "</div>"
      ],
      "text/plain": [
       "        Date  AI Theory  AI Project  Programming  Non-AI  Workout  Total\n",
       "0  25-5-2024        1.0         2.0          3.0     4.0      1.0   10.0\n",
       "1  25-5-2024        3.0         1.0          7.0     0.0      1.0   11.0\n",
       "2  26-5-2024        1.0         2.0          3.0     4.0      5.0   10.0\n",
       "3  26-5-2024        2.0         6.0         10.0     1.0      0.0   19.0\n",
       "4  26-5-2024      100.0         2.0          4.0     5.0      3.0  111.0\n",
       "5  26-5-2024        2.0         3.0          4.0     5.0      6.0   14.0"
      ]
     },
     "execution_count": 7,
     "metadata": {},
     "output_type": "execute_result"
    }
   ],
   "source": [
    "db.to_csv(db_location, index=False)\n",
    "pd.read_csv(db_location)"
   ]
  },
  {
   "cell_type": "code",
   "execution_count": 8,
   "metadata": {},
   "outputs": [],
   "source": [
    "d = {k:sum(v) for k,v in db.items() if k!='Date'}\n",
    "df = pd.DataFrame({'Work': d.keys(), 'Time': d.values()})"
   ]
  },
  {
   "cell_type": "code",
   "execution_count": 9,
   "metadata": {},
   "outputs": [
    {
     "data": {
      "image/png": "[encoded data removed]",
      "text/plain": [
       "<Figure size 1000x600 with 1 Axes>"
      ]
     },
     "metadata": {},
     "output_type": "display_data"
    }
   ],
   "source": [
    "import pandas as pd\n",
    "import matplotlib.pyplot as plt\n",
    "\n",
    "work = ['AI Theory', 'AI Project', 'Programming', 'Non-AI', 'Workout', 'Total']\n",
    "\n",
    "time_second = [500, 200, 800, 300, 600, 1200]\n",
    "\n",
    "df_total = pd.DataFrame({'Work': work, 'Time': time_second})\n",
    "\n",
    "fig, ax = plt.subplots(figsize=(10, 6))\n",
    "\n",
    "df.plot(kind='bar', x='Work', y='Time', legend=False, alpha=1, ax=ax)\n",
    "df_total.plot(kind='bar', x='Work', y='Time', legend=False, alpha=0.5, ax=ax)\n",
    "\n",
    "plt.title('This Year')\n",
    "plt.xlabel('Work')\n",
    "plt.ylabel('Time')\n",
    "plt.show()\n"
   ]
  }
 ],
 "metadata": {
  "kernelspec": {
   "display_name": "AI_ENV",
   "language": "python",
   "name": "python3"
  },
  "language_info": {
   "codemirror_mode": {
    "name": "ipython",
    "version": 3
   },
   "file_extension": ".py",
   "mimetype": "text/x-python",
   "name": "python",
   "nbconvert_exporter": "python",
   "pygments_lexer": "ipython3",
   "version": "3.10.12"
  }
 },
 "nbformat": 4,
 "nbformat_minor": 2
}
