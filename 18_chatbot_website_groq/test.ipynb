{
 "cells": [
  {
   "cell_type": "code",
   "execution_count": 5,
   "metadata": {},
   "outputs": [],
   "source": [
    "import requests\n",
    "from bs4 import BeautifulSoup"
   ]
  },
  {
   "cell_type": "code",
   "execution_count": 11,
   "metadata": {},
   "outputs": [],
   "source": [
    "def read_website(website):\n",
    "    response = requests.get(website)\n",
    "    if response.status_code == 200:\n",
    "        out = []\n",
    "        page_content = response.content\n",
    "        soup = BeautifulSoup(page_content, 'html.parser')\n",
    "        paragraphs = soup.find_all('p')\n",
    "        for paragraph in paragraphs:\n",
    "            out.append(paragraph.text)\n",
    "        return out\n",
    "    else:\n",
    "        return 'Failed to retrieve data from the page'"
   ]
  },
  {
   "cell_type": "code",
   "execution_count": 13,
   "metadata": {},
   "outputs": [
    {
     "data": {
      "text/plain": [
       "['You’ve never seen everything like this before.',\n",
       " 'Stream Napoleon on Apple\\xa0TV+',\n",
       " 'Titanium. So strong. So light. So Pro.',\n",
       " 'New camera. New design. Newphoria.',\n",
       " 'Our most powerful cameras yet. Ultrafast chips. And USB-C.',\n",
       " 'Our most powerful cameras yet. Ultrafast chips. And USB-C.',\n",
       " 'Lean. Mean. M3 machine.',\n",
       " 'Apple Worldwide Developers Conference. Join us online June 10–14.',\n",
       " 'Lean. Mean. M3 machine.',\n",
       " 'Smarter. Brighter. Mightier.',\n",
       " 'A plan as innovative as our products.',\n",
       " 'Lovable. Drawable. Magical.',\n",
       " 'Get up to 3% Daily\\xa0Cash back with every purchase.',\n",
       " 'Get $180-$630 in credit when you trade in iPhone\\xa011 or higher.1',\n",
       " 'A-List Pop',\n",
       " 'Yoga with Molly',\n",
       " 'NBA 2K24 Arcade Edition',\n",
       " 'Hits Remixed',\n",
       " '30-Day Core Challenge',\n",
       " 'Hello Kitty Island Adventure']"
      ]
     },
     "execution_count": 13,
     "metadata": {},
     "output_type": "execute_result"
    }
   ],
   "source": [
    "read_website('https://apple.com')"
   ]
  }
 ],
 "metadata": {
  "kernelspec": {
   "display_name": "AI_ENV",
   "language": "python",
   "name": "python3"
  },
  "language_info": {
   "codemirror_mode": {
    "name": "ipython",
    "version": 3
   },
   "file_extension": ".py",
   "mimetype": "text/x-python",
   "name": "python",
   "nbconvert_exporter": "python",
   "pygments_lexer": "ipython3",
   "version": "3.10.12"
  }
 },
 "nbformat": 4,
 "nbformat_minor": 2
}
