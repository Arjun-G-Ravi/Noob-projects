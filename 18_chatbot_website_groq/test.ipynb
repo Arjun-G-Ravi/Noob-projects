{
 "cells": [
  {
   "cell_type": "code",
   "execution_count": null,
   "metadata": {},
   "outputs": [],
   "source": []
  },
  {
   "cell_type": "code",
   "execution_count": 2,
   "metadata": {},
   "outputs": [],
   "source": [
    "import requests\n",
    "from bs4 import BeautifulSoup"
   ]
  },
  {
   "cell_type": "code",
   "execution_count": 3,
   "metadata": {},
   "outputs": [],
   "source": [
    "def read_url(url):\n",
    "    try:\n",
    "        response = requests.get(url)\n",
    "        html_content = response.text\n",
    "        soup = BeautifulSoup(html_content, 'html.parser')\n",
    "        text = soup.get_text()\n",
    "        return text\n",
    "    except:\n",
    "        raise ValueError('Invalid URL or unable to extract text from URL. Please provide a valid website URL.')"
   ]
  },
  {
   "cell_type": "code",
   "execution_count": 5,
   "metadata": {},
   "outputs": [
    {
     "data": {
      "text/plain": [
       "'GroqCloudPlaygroundDocumentationAPI KeysSettingsDiscordFeedbackLog In0.0.2PlaygroundDocumentationAPI KeysSettingsDiscordFeedbackLog InDocumentationGet StartedQuickstartModelsErrorsChangelogExamples and DemosExamplesShowcase ApplicationsFeaturesChat CompletionsOpenAI CompatibilityTool UseIntegrationsGroq LibrariesLangChainLlamaIndexAccountsAPI KeysRate LimitsLegalPolicies & NoticesSupported Models\\nGroqCloud currently supports the following models:\\nLLaMA3 8b\\n\\nModel ID: llama3-8b-8192\\nDeveloper: Meta\\nContext Window: 8,192 tokens\\nModel Card: https://huggingface.co/meta-llama/Meta-Llama-3-8B\\n\\nLLaMA3 70b\\n\\nModel ID: llama3-70b-8192\\nDeveloper: Meta\\nContext Window: 8,192 tokens\\nModel Card: https://huggingface.co/meta-llama/Meta-Llama-3-70B\\n\\nLLaMA2 70b\\n\\nModel ID: llama2-70b-4096\\nDeveloper: Meta\\nContext Window: 4,096 tokens\\nModel Card: https://huggingface.co/meta-llama/Llama-2-70b\\n\\nMixtral 8x7b\\n\\nModel ID: mixtral-8x7b-32768\\nDeveloper: Mistral\\nContext Window: 32,768 tokens\\nModel Card: https://huggingface.co/mistralai/Mixtral-8x7B-Instruct-v0.1\\n\\nGemma 7b\\n\\nModel ID: gemma-7b-it\\nDeveloper: Google\\nContext Window: 8,192 tokens\\nModel Card: https://huggingface.co/google/gemma-1.1-7b-it\\n\\n\\nThese are chat type models and are directly accessible through the GroqCloud Models API endpoint using the model IDs mentioned above.'"
      ]
     },
     "execution_count": 5,
     "metadata": {},
     "output_type": "execute_result"
    }
   ],
   "source": [
    "read_url('https://console.groq.com/docs/models')"
   ]
  }
 ],
 "metadata": {
  "kernelspec": {
   "display_name": "AI_ENV",
   "language": "python",
   "name": "python3"
  },
  "language_info": {
   "codemirror_mode": {
    "name": "ipython",
    "version": 3
   },
   "file_extension": ".py",
   "mimetype": "text/x-python",
   "name": "python",
   "nbconvert_exporter": "python",
   "pygments_lexer": "ipython3",
   "version": "3.10.12"
  }
 },
 "nbformat": 4,
 "nbformat_minor": 2
}
