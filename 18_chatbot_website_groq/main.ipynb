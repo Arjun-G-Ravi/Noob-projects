{
 "cells": [
  {
   "cell_type": "markdown",
   "metadata": {},
   "source": [
    "# Question Answering System\n",
    "### TOPIC: Animals"
   ]
  },
  {
   "cell_type": "code",
   "execution_count": 1,
   "metadata": {},
   "outputs": [],
   "source": [
    "from ai import LLM\n",
    "import requests\n",
    "from bs4 import BeautifulSoup\n",
    "from time import sleep"
   ]
  },
  {
   "cell_type": "code",
   "execution_count": 2,
   "metadata": {},
   "outputs": [],
   "source": [
    "def read_website(website):\n",
    "    response = requests.get(website)\n",
    "    if response.status_code == 200:\n",
    "        out = []\n",
    "        page_content = response.content\n",
    "        soup = BeautifulSoup(page_content, 'html.parser')\n",
    "        paragraphs = soup.find_all('p')\n",
    "        for paragraph in paragraphs:\n",
    "            out.append(paragraph.text)\n",
    "        to_go =  '\\n'.join(out)\n",
    "        if len(to_go) >2000:\n",
    "            to_go = to_go[:2000]\n",
    "        return to_go\n",
    "    else: return 'Failed to retrieve data from the page'"
   ]
  },
  {
   "cell_type": "code",
   "execution_count": 3,
   "metadata": {},
   "outputs": [],
   "source": [
    "with open('config.ini') as f:\n",
    "    api = f.read()\n",
    "llm = LLM(api)"
   ]
  },
  {
   "cell_type": "code",
   "execution_count": 4,
   "metadata": {},
   "outputs": [],
   "source": [
    "def generate_output(qn, info):\n",
    "    prompt_template = f'''\n",
    "You are a Question Answering system that will accept retrieved data from a website. Using the retrived data from the website, answer the query. \n",
    "Remember that all the retrived data need not be used. Use only the relevant data present in the retrieved information and complete. \n",
    "If the answer to the query is not present in the website, reply that the answer is not found in the given webpage.\n",
    "\n",
    "Query: {qn}\n",
    "\n",
    "Retrived information: \n",
    "{info}\n",
    "\n",
    "Answer: '''\n",
    "    out = llm.generate(prompt_template)\n",
    "    return out"
   ]
  },
  {
   "cell_type": "code",
   "execution_count": 5,
   "metadata": {},
   "outputs": [
    {
     "name": "stdout",
     "output_type": "stream",
     "text": [
      "WEBSITE: https://en.wikipedia.org/wiki/Elon_Musk\n",
      "Q: when was elon musk born\n",
      "A: Elon Musk was born on June 28, 1971.\n",
      "\n",
      "Q: List the major comanies of Elon Musk.\n",
      "A: Based on the retrieved information, the major companies associated with Elon Musk are:\n",
      "\n",
      "1. SpaceX\n",
      "2. Tesla, Inc. (formerly Tesla Motors, Inc.)\n",
      "3. The Boring Company\n",
      "4. xAI\n",
      "5. Neuralink\n",
      "6. OpenAI\n",
      "7. SolarCity (acquired by Tesla in 2016 and became Tesla Energy)\n",
      "8. Zip2\n",
      "9. X.com (merged with Confinity to form PayPal)\n",
      "10. PayPal (acquired by eBay in 2002)\n",
      "\n",
      "Note that X Corp is also mentioned in the retrieved information, but it is not clear what type of company it is, so I have not included it in the list.\n",
      "\n",
      "Q: Does Elon Musk like pineapples?\n",
      "A: The answer is not found in the given webpage. There is no mention of Elon Musk's preferences or opinions about pineapples in the retrieved information.\n",
      "\n",
      "Thank you for interacting with me.\n"
     ]
    }
   ],
   "source": [
    "website = input('Input website: ')\n",
    "info = read_website(website)\n",
    "print(f'WEBSITE: {website}')\n",
    "while True:\n",
    "    query = input('Ask a query: ')\n",
    "    if not query: \n",
    "        print('Thank you for interacting with me.')\n",
    "        break\n",
    "    print('Q:',query)\n",
    "    print('A:',generate_output(query, info), end='\\n\\n')\n",
    "    sleep(3)"
   ]
  }
 ],
 "metadata": {
  "kernelspec": {
   "display_name": "AI_ENV",
   "language": "python",
   "name": "python3"
  },
  "language_info": {
   "codemirror_mode": {
    "name": "ipython",
    "version": 3
   },
   "file_extension": ".py",
   "mimetype": "text/x-python",
   "name": "python",
   "nbconvert_exporter": "python",
   "pygments_lexer": "ipython3",
   "version": "3.10.12"
  }
 },
 "nbformat": 4,
 "nbformat_minor": 2
}
