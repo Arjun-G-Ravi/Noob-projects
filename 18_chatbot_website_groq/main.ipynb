{
 "cells": [
  {
   "cell_type": "markdown",
   "metadata": {},
   "source": [
    "# Question Answering System\n",
    "### TOPIC: Animals"
   ]
  },
  {
   "cell_type": "code",
   "execution_count": 1,
   "metadata": {},
   "outputs": [],
   "source": [
    "from ai import LLM\n",
    "import requests\n",
    "from bs4 import BeautifulSoup\n",
    "from time import sleep"
   ]
  },
  {
   "cell_type": "code",
   "execution_count": 2,
   "metadata": {},
   "outputs": [],
   "source": [
    "def read_website(website):\n",
    "    response = requests.get(website)\n",
    "    if response.status_code == 200:\n",
    "        out = []\n",
    "        page_content = response.content\n",
    "        soup = BeautifulSoup(page_content, 'html.parser')\n",
    "        paragraphs = soup.find_all('p')\n",
    "        for paragraph in paragraphs:\n",
    "            out.append(paragraph.text)\n",
    "        to_go =  '\\n'.join(out)\n",
    "        if len(to_go) >2000:\n",
    "            to_go = to_go[:2000]\n",
    "        return to_go\n",
    "    else: return 'Failed to retrieve data from the page'"
   ]
  },
  {
   "cell_type": "code",
   "execution_count": 3,
   "metadata": {},
   "outputs": [],
   "source": [
    "with open('config.ini') as f:\n",
    "    api = f.read()\n",
    "llm = LLM(api)"
   ]
  },
  {
   "cell_type": "code",
   "execution_count": 4,
   "metadata": {},
   "outputs": [],
   "source": [
    "def generate_output(qn, info):\n",
    "    prompt_template = f'''\n",
    "You are a Question Answering system that will accept retrieved data from a website. Using the retrived data from the website, answer the query. \n",
    "Remember that all the retrived data need not be used. Use only the relevant data present in the retrieved information and complete. \n",
    "If the answer to the query is not present in the website, reply that the answer is not found in the given webpage.\n",
    "\n",
    "Query: {qn}\n",
    "\n",
    "Retrived information: \n",
    "{info}\n",
    "\n",
    "Answer: '''\n",
    "    out = llm.generate(prompt_template)\n",
    "    return out"
   ]
  },
  {
   "cell_type": "code",
   "execution_count": 5,
   "metadata": {},
   "outputs": [
    {
     "name": "stdout",
     "output_type": "stream",
     "text": [
      "WEBSITE: https://blogs.nvidia.com/blog/what-is-a-transformer-model/\n",
      "Q: What is this website about?\n",
      "A: This website is about transformer models, a type of neural network in AI that learns context and meaning by tracking relationships in sequential data, and their applications in various fields such as machine learning, language translation, fraud detection, and more.\n",
      "\n",
      "Q: Summarise the contents on this website\n",
      "A: The website discusses the concept of transformer models in Artificial Intelligence (AI). It explains that transformers are a type of neural network that learn context and meaning by tracking relationships in sequential data, using a technique called attention or self-attention. They are a powerful class of models that have driven significant advances in machine learning and are being used in various applications such as language translation, speech recognition, gene analysis, fraud detection, and more. The article highlights the potential of transformers to revolutionize AI and make significant contributions to various fields.\n",
      "\n",
      "Q: What is self attention?\n",
      "A: According to the retrieved information, self-attention is a mathematical technique used in transformer models to detect subtle ways even distant data elements in a series influence and depend on each other.\n",
      "\n",
      "Q: Who is Alan Turing\n",
      "A: I'm sorry, but the answer to the query \"Who is Alan Turing\" is not found in the given webpage. The provided text does not mention Alan Turing at all. It appears to discuss transformers and their applications in AI, but it does not provide any information about Alan Turing.\n",
      "\n",
      "Thank you for interacting with me.\n"
     ]
    }
   ],
   "source": [
    "website = input('Input website: ')\n",
    "info = read_website(website)\n",
    "print(f'WEBSITE: {website}')\n",
    "while True:\n",
    "    query = input('Ask a query: ')\n",
    "    if not query: \n",
    "        print('Thank you for interacting with me.')\n",
    "        break\n",
    "    print('Q:',query)\n",
    "    print('A:',generate_output(query, info), end='\\n\\n')\n",
    "    sleep(3)"
   ]
  }
 ],
 "metadata": {
  "kernelspec": {
   "display_name": "AI_ENV",
   "language": "python",
   "name": "python3"
  },
  "language_info": {
   "codemirror_mode": {
    "name": "ipython",
    "version": 3
   },
   "file_extension": ".py",
   "mimetype": "text/x-python",
   "name": "python",
   "nbconvert_exporter": "python",
   "pygments_lexer": "ipython3",
   "version": "3.10.12"
  }
 },
 "nbformat": 4,
 "nbformat_minor": 2
}
