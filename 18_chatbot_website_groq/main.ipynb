{
 "cells": [
  {
   "cell_type": "markdown",
   "metadata": {},
   "source": [
    "# Question Answering System\n",
    "### TOPIC: Animals"
   ]
  },
  {
   "cell_type": "code",
   "execution_count": 1,
   "metadata": {},
   "outputs": [],
   "source": [
    "from ai import LLM\n",
    "import requests\n",
    "from bs4 import BeautifulSoup\n",
    "from time import sleep"
   ]
  },
  {
   "cell_type": "code",
   "execution_count": 2,
   "metadata": {},
   "outputs": [],
   "source": [
    "def read_website(website):\n",
    "    response = requests.get(website)\n",
    "    if response.status_code == 200:\n",
    "        out = []\n",
    "        page_content = response.content\n",
    "        soup = BeautifulSoup(page_content, 'html.parser')\n",
    "        paragraphs = soup.find_all('p')\n",
    "        for paragraph in paragraphs:\n",
    "            out.append(paragraph.text)\n",
    "        to_go =  '\\n'.join(out)\n",
    "        if len(to_go) >2000:\n",
    "            to_go = to_go[:2000]\n",
    "        return to_go\n",
    "    else: return 'Failed to retrieve data from the page'"
   ]
  },
  {
   "cell_type": "code",
   "execution_count": 3,
   "metadata": {},
   "outputs": [],
   "source": [
    "with open('config.ini') as f:\n",
    "    api = f.read()\n",
    "llm = LLM(api)"
   ]
  },
  {
   "cell_type": "code",
   "execution_count": 4,
   "metadata": {},
   "outputs": [],
   "source": [
    "def generate_output(qn, info):\n",
    "    prompt_template = f'''\n",
    "You are a Question Answering system that will accept retrieved data from a website. Using the retrived data from the website, answer the query. \n",
    "Remember that all the retrived data need not be used. Use only the relevant data present in the retrieved information and complete. \n",
    "If the answer to the query is not present in the website, reply that the answer is not found in the given webpage.\n",
    "\n",
    "Query: {qn}\n",
    "\n",
    "Retrived information: \n",
    "{info}\n",
    "\n",
    "Answer: '''\n",
    "    out = llm.generate(prompt_template)\n",
    "    return out"
   ]
  },
  {
   "cell_type": "code",
   "execution_count": 5,
   "metadata": {},
   "outputs": [
    {
     "name": "stdout",
     "output_type": "stream",
     "text": [
      "cow\n",
      "Alan refers to Alan Mathison Turing OBE FRS, who was an English mathematician, computer scientist, logician, cryptanalyst, philosopher, and theoretical biologist. He was highly influential in the development of theoretical computer science and is widely considered to be the father of theoretical computer science and artificial intelligence. He was born in London and graduated in maths from King's College, Cambridge. He played a crucial role in breaking German ciphers during World War II, which contributed significantly to Allied victories. After the war, he worked on the design of stored-program computers and made contributions to mathematical biology.\n",
      "cow\n",
      "The Father of Theoretical Computer Science and Artificial Intelligence is Alan Mathison Turing.\n",
      "cow\n",
      "Alan Mathison Turing was born on 23 June 1912.\n",
      "cow\n",
      "The retrieved information does not mention anything about Alan Turing's preferences regarding pineapples.\n",
      "cow\n",
      "The retrieved information does not provide specific details on how Alan Turing died. However, it does mention that he was born on June 23, 1912 and died on June 7, 1954. The cause of his death is not specified in the information provided.\n"
     ]
    }
   ],
   "source": [
    "website = input('Input website: ')\n",
    "info = read_website(website)\n",
    "while True:\n",
    "    query = input('Ask a query: ')\n",
    "    if not query: \n",
    "        print('Thank you for interacting with me.')\n",
    "        break\n",
    "    print(generate_output(query, info))\n",
    "    sleep(3)"
   ]
  }
 ],
 "metadata": {
  "kernelspec": {
   "display_name": "AI_ENV",
   "language": "python",
   "name": "python3"
  },
  "language_info": {
   "codemirror_mode": {
    "name": "ipython",
    "version": 3
   },
   "file_extension": ".py",
   "mimetype": "text/x-python",
   "name": "python",
   "nbconvert_exporter": "python",
   "pygments_lexer": "ipython3",
   "version": "3.10.12"
  }
 },
 "nbformat": 4,
 "nbformat_minor": 2
}
