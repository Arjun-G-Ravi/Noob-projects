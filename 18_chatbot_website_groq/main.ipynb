{
 "cells": [
  {
   "cell_type": "markdown",
   "metadata": {},
   "source": [
    "# Question Answering System\n",
    "### TOPIC: Animals"
   ]
  },
  {
   "cell_type": "code",
   "execution_count": 1,
   "metadata": {},
   "outputs": [],
   "source": [
    "from ai import LLM\n",
    "import requests\n",
    "from bs4 import BeautifulSoup\n",
    "from time import sleep"
   ]
  },
  {
   "cell_type": "code",
   "execution_count": 2,
   "metadata": {},
   "outputs": [],
   "source": [
    "def read_website(website):\n",
    "    response = requests.get(website)\n",
    "    if response.status_code == 200:\n",
    "        out = []\n",
    "        page_content = response.content\n",
    "        soup = BeautifulSoup(page_content, 'html.parser')\n",
    "        paragraphs = soup.find_all('p')\n",
    "        for paragraph in paragraphs:\n",
    "            out.append(paragraph.text)\n",
    "        to_go =  '\\n'.join(out)\n",
    "        if len(to_go) >2000:\n",
    "            to_go = to_go[:2000]\n",
    "        return to_go\n",
    "    else: return 'Failed to retrieve data from the page'"
   ]
  },
  {
   "cell_type": "code",
   "execution_count": 3,
   "metadata": {},
   "outputs": [],
   "source": [
    "with open('config.ini') as f:\n",
    "    api = f.read()\n",
    "llm = LLM(api)"
   ]
  },
  {
   "cell_type": "code",
   "execution_count": 4,
   "metadata": {},
   "outputs": [],
   "source": [
    "def generate_output(qn, info):\n",
    "    prompt_template = f'''\n",
    "You are a Question Answering system that will accept retrieved data from a website. Using the retrived data from the website, answer the query. \n",
    "Remember that all the retrived data need not be used. Use only the relevant data present in the retrieved information and complete. \n",
    "If the answer to the query is not present in the website, reply that the answer is not found in the given webpage.\n",
    "\n",
    "Query: {qn}\n",
    "\n",
    "Retrived information: \n",
    "{info}\n",
    "\n",
    "Answer: '''\n",
    "    out = llm.generate(prompt_template)\n",
    "    return out"
   ]
  },
  {
   "cell_type": "code",
   "execution_count": 5,
   "metadata": {},
   "outputs": [
    {
     "name": "stdout",
     "output_type": "stream",
     "text": [
      "WEBSITE: https://en.wikipedia.org/wiki/Elon_Musk\n",
      "Q: who is elon musk\n",
      "A: Elon Reeve Musk is a businessman and investor, born on June 28, 1971. He is the founder, CEO, and CTO of SpaceX; CEO, product architect, and former chairman of Tesla, Inc.; owner, executive chairman, and CTO of X Corp.; founder of the Boring Company and xAI; co-founder of Neuralink and OpenAI; and president of the Musk Foundation. Musk was born in Pretoria, South Africa, and moved to the United States, becoming a naturalized citizen. He attended the University of Pennsylvania, where he earned bachelor's degrees in economics and physics. Musk co-founded Zip2, X.com, and PayPal, and later founded SpaceX and became an early investor in Tesla, Inc. He is also known for his involvement in SolarCity, the Boring Company, and Neuralink, as well as conceptualizing the hyperloop transportation system. As of April 2024, Musk is one of the wealthiest people in the world, with a net worth of $193 billion, according to Forbes.\n",
      "\n",
      "Q: when was he born\n",
      "A: Elon Reeve Musk was born on June 28, 1971.\n",
      "\n",
      "Q: what are his popular companies\n",
      "A: Based on the provided information, Elon Musk is associated with the following popular companies:\n",
      "\n",
      "1. SpaceX (Space Exploration Technologies Corp) - Founder, CEO, CTO, and Chairman\n",
      "2. Tesla, Inc. (originally Tesla Motors, Inc.) - Co-founder, CEO, Product Architect, and early investor\n",
      "3. X Corp. - Owner, Executive Chairman, and CTO\n",
      "4. The Boring Company - Founder\n",
      "5. xAI - Founder\n",
      "6. Neuralink - Co-founder\n",
      "7. OpenAI - Co-founder\n",
      "8. Zip2 - Co-founder\n",
      "9. PayPal - Co-founder (originally X.com)\n",
      "10. SolarCity - Helped create (acquired by Tesla and became Tesla Energy)\n",
      "\n",
      "These are some of his most well-known endeavors, and Musk is known for his significant involvement and impact on these companies.\n",
      "\n",
      "Q: how did he die\n",
      "A: The retrieved information does not provide details about the death of Elon Reeve Musk.\n",
      "\n",
      "Q: does he like pineapple?\n",
      "A: The retrieved data does not provide information on Elon Musk's preferences regarding pineapple.\n",
      "\n",
      "Thank you for interacting with me.\n"
     ]
    }
   ],
   "source": [
    "website = input('Input website: ')\n",
    "info = read_website(website)\n",
    "print(f'WEBSITE: {website}')\n",
    "while True:\n",
    "    query = input('Ask a query: ')\n",
    "    if not query: \n",
    "        print('Thank you for interacting with me.')\n",
    "        break\n",
    "    print('Q:',query)\n",
    "    print('A:',generate_output(query, info), end='\\n\\n')\n",
    "    sleep(3)"
   ]
  }
 ],
 "metadata": {
  "kernelspec": {
   "display_name": "AI_ENV",
   "language": "python",
   "name": "python3"
  },
  "language_info": {
   "codemirror_mode": {
    "name": "ipython",
    "version": 3
   },
   "file_extension": ".py",
   "mimetype": "text/x-python",
   "name": "python",
   "nbconvert_exporter": "python",
   "pygments_lexer": "ipython3",
   "version": "3.10.12"
  }
 },
 "nbformat": 4,
 "nbformat_minor": 2
}
