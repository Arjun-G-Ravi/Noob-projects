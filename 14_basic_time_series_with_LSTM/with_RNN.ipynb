{
 "cells": [
  {
   "cell_type": "code",
   "execution_count": 1,
   "metadata": {},
   "outputs": [],
   "source": [
    "import torch\n",
    "import torch.nn as nn\n",
    "import matplotlib.pyplot as plt\n",
    "# import numpy as np"
   ]
  },
  {
   "cell_type": "code",
   "execution_count": 3,
   "metadata": {},
   "outputs": [
    {
     "name": "stdout",
     "output_type": "stream",
     "text": [
      "torch.Size([1000, 100])\n"
     ]
    }
   ],
   "source": [
    "X = torch.tensor([[i for i in range(100)] for _ in range(1000)])\n",
    "print(X.shape)\n",
    "y = (torch.sin(X) + .3*torch.randn(1000,100))\n"
   ]
  },
  {
   "cell_type": "code",
   "execution_count": null,
   "metadata": {},
   "outputs": [],
   "source": [
    "fig = plt.figure(figsize=(10,8))\n",
    "for i,x in enumerate(X[:9]):\n",
    "    ax = fig.add_subplot(3,3,i+1)\n",
    "    ax.plot(x,y[i])"
   ]
  },
  {
   "cell_type": "code",
   "execution_count": null,
   "metadata": {},
   "outputs": [],
   "source": [
    "class LSTM(nn.Module):\n",
    "    def __init__(self):\n",
    "        super(LSTM, self).__init__()\n",
    "        self.l1 = nn.RNN(1, 51, dtype=torch.double)\n",
    "        self.l2 = nn.RNN(1, 51, dtype=torch.double)\n",
    "        self.l3 = nn.RNN(1, 51, dtype=torch.double)\n",
    "       \n",
    "    def forward(self, x):\n",
    "        h_t = self.h_t \n",
    "        c_t = self.c_t \n",
    "        h_t2 = self.h_t2\n",
    "        c_t2 = self.c_t2\n",
    "        x = x.view(-1, x.size(1))\n",
    "        \n",
    "        h_t, c_t = self.l1(x, (h_t, c_t))\n",
    "        h_t2, c_t2 = self.l2(h_t, (h_t2, c_t2))\n",
    "        output = self.l3(h_t2)\n",
    "        \n",
    "        \n",
    "        \n",
    "        return output\n"
   ]
  },
  {
   "cell_type": "code",
   "execution_count": null,
   "metadata": {},
   "outputs": [],
   "source": [
    "lstm = LSTM()\n",
    "inp = torch.tensor([0], dtype=torch.double).view(1,1,1)\n",
    "print(inp.dtype)\n",
    "lstm(torch.tensor([0]).unsqueeze(0))\n",
    "\n",
    "# lstm(torch.tensor([0], dtype=torch.float))"
   ]
  },
  {
   "cell_type": "code",
   "execution_count": 7,
   "metadata": {},
   "outputs": [
    {
     "data": {
      "text/plain": [
       "(torch.Size([5, 3, 20]), torch.Size([5, 3, 10]))"
      ]
     },
     "execution_count": 7,
     "metadata": {},
     "output_type": "execute_result"
    }
   ],
   "source": [
    "rnn = nn.RNN(10, 20, 2)\n",
    "input = torch.randn(5, 3, 10)\n",
    "h0 = torch.randn(2, 3, 20)\n",
    "output, hn = rnn(input, h0)\n",
    "output.shape, input.shape"
   ]
  },
  {
   "cell_type": "code",
   "execution_count": null,
   "metadata": {},
   "outputs": [],
   "source": []
  },
  {
   "cell_type": "code",
   "execution_count": null,
   "metadata": {},
   "outputs": [],
   "source": []
  }
 ],
 "metadata": {
  "kernelspec": {
   "display_name": "AI_ENV",
   "language": "python",
   "name": "python3"
  },
  "language_info": {
   "codemirror_mode": {
    "name": "ipython",
    "version": 3
   },
   "file_extension": ".py",
   "mimetype": "text/x-python",
   "name": "python",
   "nbconvert_exporter": "python",
   "pygments_lexer": "ipython3",
   "version": "3.10.12"
  }
 },
 "nbformat": 4,
 "nbformat_minor": 2
}
